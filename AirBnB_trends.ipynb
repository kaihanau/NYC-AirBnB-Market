{
 "cells": [
  {
   "cell_type": "code",
   "execution_count": 13,
   "id": "77371975-aef1-4fea-8754-d6f6436bbb8b",
   "metadata": {},
   "outputs": [],
   "source": [
    "import pandas as pd\n",
    "import numpy as np\n",
    "import matplotlib as plt\n",
    "import seaborn as sns"
   ]
  },
  {
   "cell_type": "code",
   "execution_count": 14,
   "id": "e3d57c85-0c83-44e0-88a6-93f7ee47caf8",
   "metadata": {},
   "outputs": [],
   "source": [
    "airbnb_price = pd.read_csv(\"/Users/kajetanhanausek/Desktop/projects/Exploring the NYC Airbnb Market /data/airbnb_price.csv\")"
   ]
  },
  {
   "cell_type": "code",
   "execution_count": 15,
   "id": "58a68613-d137-47d3-945d-7aca40a8515e",
   "metadata": {},
   "outputs": [
    {
     "data": {
      "text/plain": [
       "(25209, 3)"
      ]
     },
     "execution_count": 15,
     "metadata": {},
     "output_type": "execute_result"
    }
   ],
   "source": [
    "airbnb_price.shape"
   ]
  },
  {
   "cell_type": "code",
   "execution_count": 16,
   "id": "248c5516-f8c7-4025-bb5c-3a6129aecebf",
   "metadata": {},
   "outputs": [],
   "source": [
    "last_review = pd.read_csv(\"/Users/kajetanhanausek/Desktop/projects/Exploring the NYC Airbnb Market /data/airbnb_last_review.tsv\",  sep='\\t')"
   ]
  },
  {
   "cell_type": "code",
   "execution_count": 17,
   "id": "d476df7f-03e5-4d09-8d9a-e96a0ed63370",
   "metadata": {},
   "outputs": [
    {
     "data": {
      "text/plain": [
       "(25209, 3)"
      ]
     },
     "execution_count": 17,
     "metadata": {},
     "output_type": "execute_result"
    }
   ],
   "source": [
    "last_review.shape"
   ]
  },
  {
   "cell_type": "code",
   "execution_count": 18,
   "id": "ec5c32cd-4339-4e48-b6bc-494e411b6d6a",
   "metadata": {},
   "outputs": [],
   "source": [
    "room_type = pd.read_excel(\"/Users/kajetanhanausek/Desktop/projects/Exploring the NYC Airbnb Market /data/airbnb_room_type.xlsx\")"
   ]
  },
  {
   "cell_type": "code",
   "execution_count": 19,
   "id": "a4abaaea-aa87-41cd-8643-9b66f73e6a36",
   "metadata": {},
   "outputs": [
    {
     "data": {
      "text/plain": [
       "(25209, 3)"
      ]
     },
     "execution_count": 19,
     "metadata": {},
     "output_type": "execute_result"
    }
   ],
   "source": [
    "room_type.shape\n"
   ]
  },
  {
   "cell_type": "code",
   "execution_count": 20,
   "id": "88b2c16e-fc1b-4e46-b92f-ce07b03c6f8c",
   "metadata": {},
   "outputs": [
    {
     "data": {
      "text/plain": [
       "<bound method DataFrame.info of        listing_id        price                 nbhood_full\n",
       "0            2595  225 dollars          Manhattan, Midtown\n",
       "1            3831   89 dollars      Brooklyn, Clinton Hill\n",
       "2            5099  200 dollars      Manhattan, Murray Hill\n",
       "3            5178   79 dollars   Manhattan, Hell's Kitchen\n",
       "4            5238  150 dollars        Manhattan, Chinatown\n",
       "...           ...          ...                         ...\n",
       "25204    36425863  129 dollars  Manhattan, Upper East Side\n",
       "25205    36427429   45 dollars            Queens, Flushing\n",
       "25206    36438336  235 dollars  Staten Island, Great Kills\n",
       "25207    36442252  100 dollars           Bronx, Mott Haven\n",
       "25208    36455809   30 dollars          Brooklyn, Bushwick\n",
       "\n",
       "[25209 rows x 3 columns]>"
      ]
     },
     "execution_count": 20,
     "metadata": {},
     "output_type": "execute_result"
    }
   ],
   "source": [
    "airbnb_price.info"
   ]
  },
  {
   "cell_type": "code",
   "execution_count": 21,
   "id": "6e320ce4-22d3-4f2a-815a-733afb03c4a3",
   "metadata": {},
   "outputs": [
    {
     "data": {
      "text/html": [
       "<div>\n",
       "<style scoped>\n",
       "    .dataframe tbody tr th:only-of-type {\n",
       "        vertical-align: middle;\n",
       "    }\n",
       "\n",
       "    .dataframe tbody tr th {\n",
       "        vertical-align: top;\n",
       "    }\n",
       "\n",
       "    .dataframe thead th {\n",
       "        text-align: right;\n",
       "    }\n",
       "</style>\n",
       "<table border=\"1\" class=\"dataframe\">\n",
       "  <thead>\n",
       "    <tr style=\"text-align: right;\">\n",
       "      <th></th>\n",
       "      <th>listing_id</th>\n",
       "    </tr>\n",
       "  </thead>\n",
       "  <tbody>\n",
       "    <tr>\n",
       "      <th>count</th>\n",
       "      <td>2.520900e+04</td>\n",
       "    </tr>\n",
       "    <tr>\n",
       "      <th>mean</th>\n",
       "      <td>2.068922e+07</td>\n",
       "    </tr>\n",
       "    <tr>\n",
       "      <th>std</th>\n",
       "      <td>1.102928e+07</td>\n",
       "    </tr>\n",
       "    <tr>\n",
       "      <th>min</th>\n",
       "      <td>2.595000e+03</td>\n",
       "    </tr>\n",
       "    <tr>\n",
       "      <th>25%</th>\n",
       "      <td>1.202273e+07</td>\n",
       "    </tr>\n",
       "    <tr>\n",
       "      <th>50%</th>\n",
       "      <td>2.234391e+07</td>\n",
       "    </tr>\n",
       "    <tr>\n",
       "      <th>75%</th>\n",
       "      <td>3.037669e+07</td>\n",
       "    </tr>\n",
       "    <tr>\n",
       "      <th>max</th>\n",
       "      <td>3.645581e+07</td>\n",
       "    </tr>\n",
       "  </tbody>\n",
       "</table>\n",
       "</div>"
      ],
      "text/plain": [
       "         listing_id\n",
       "count  2.520900e+04\n",
       "mean   2.068922e+07\n",
       "std    1.102928e+07\n",
       "min    2.595000e+03\n",
       "25%    1.202273e+07\n",
       "50%    2.234391e+07\n",
       "75%    3.037669e+07\n",
       "max    3.645581e+07"
      ]
     },
     "execution_count": 21,
     "metadata": {},
     "output_type": "execute_result"
    }
   ],
   "source": [
    "airbnb_price.describe()"
   ]
  },
  {
   "cell_type": "code",
   "execution_count": 22,
   "id": "efde3696-5a83-4e3e-803b-bf75c2554e89",
   "metadata": {},
   "outputs": [
    {
     "data": {
      "text/plain": [
       "listing_id     0\n",
       "price          0\n",
       "nbhood_full    0\n",
       "dtype: int64"
      ]
     },
     "execution_count": 22,
     "metadata": {},
     "output_type": "execute_result"
    }
   ],
   "source": [
    "airbnb_price.isnull().sum()"
   ]
  },
  {
   "cell_type": "code",
   "execution_count": 23,
   "id": "8a8ac953-c192-43c0-b32d-45684ff1bd28",
   "metadata": {},
   "outputs": [
    {
     "data": {
      "text/html": [
       "<div>\n",
       "<style scoped>\n",
       "    .dataframe tbody tr th:only-of-type {\n",
       "        vertical-align: middle;\n",
       "    }\n",
       "\n",
       "    .dataframe tbody tr th {\n",
       "        vertical-align: top;\n",
       "    }\n",
       "\n",
       "    .dataframe thead th {\n",
       "        text-align: right;\n",
       "    }\n",
       "</style>\n",
       "<table border=\"1\" class=\"dataframe\">\n",
       "  <thead>\n",
       "    <tr style=\"text-align: right;\">\n",
       "      <th></th>\n",
       "      <th>listing_id</th>\n",
       "      <th>host_name</th>\n",
       "      <th>last_review</th>\n",
       "    </tr>\n",
       "  </thead>\n",
       "  <tbody>\n",
       "    <tr>\n",
       "      <th>0</th>\n",
       "      <td>2595</td>\n",
       "      <td>Jennifer</td>\n",
       "      <td>May 21 2019</td>\n",
       "    </tr>\n",
       "    <tr>\n",
       "      <th>1</th>\n",
       "      <td>3831</td>\n",
       "      <td>LisaRoxanne</td>\n",
       "      <td>July 05 2019</td>\n",
       "    </tr>\n",
       "    <tr>\n",
       "      <th>2</th>\n",
       "      <td>5099</td>\n",
       "      <td>Chris</td>\n",
       "      <td>June 22 2019</td>\n",
       "    </tr>\n",
       "    <tr>\n",
       "      <th>3</th>\n",
       "      <td>5178</td>\n",
       "      <td>Shunichi</td>\n",
       "      <td>June 24 2019</td>\n",
       "    </tr>\n",
       "    <tr>\n",
       "      <th>4</th>\n",
       "      <td>5238</td>\n",
       "      <td>Ben</td>\n",
       "      <td>June 09 2019</td>\n",
       "    </tr>\n",
       "  </tbody>\n",
       "</table>\n",
       "</div>"
      ],
      "text/plain": [
       "   listing_id    host_name   last_review\n",
       "0        2595     Jennifer   May 21 2019\n",
       "1        3831  LisaRoxanne  July 05 2019\n",
       "2        5099        Chris  June 22 2019\n",
       "3        5178     Shunichi  June 24 2019\n",
       "4        5238          Ben  June 09 2019"
      ]
     },
     "execution_count": 23,
     "metadata": {},
     "output_type": "execute_result"
    }
   ],
   "source": [
    "last_review.head()"
   ]
  },
  {
   "cell_type": "code",
   "execution_count": 24,
   "id": "ddcb481c-d121-4acd-af62-5315c8a70064",
   "metadata": {},
   "outputs": [
    {
     "data": {
      "text/html": [
       "<div>\n",
       "<style scoped>\n",
       "    .dataframe tbody tr th:only-of-type {\n",
       "        vertical-align: middle;\n",
       "    }\n",
       "\n",
       "    .dataframe tbody tr th {\n",
       "        vertical-align: top;\n",
       "    }\n",
       "\n",
       "    .dataframe thead th {\n",
       "        text-align: right;\n",
       "    }\n",
       "</style>\n",
       "<table border=\"1\" class=\"dataframe\">\n",
       "  <thead>\n",
       "    <tr style=\"text-align: right;\">\n",
       "      <th></th>\n",
       "      <th>listing_id</th>\n",
       "      <th>host_name</th>\n",
       "      <th>last_review</th>\n",
       "    </tr>\n",
       "  </thead>\n",
       "  <tbody>\n",
       "    <tr>\n",
       "      <th>0</th>\n",
       "      <td>2595</td>\n",
       "      <td>Jennifer</td>\n",
       "      <td>May 21 2019</td>\n",
       "    </tr>\n",
       "    <tr>\n",
       "      <th>1</th>\n",
       "      <td>3831</td>\n",
       "      <td>LisaRoxanne</td>\n",
       "      <td>July 05 2019</td>\n",
       "    </tr>\n",
       "    <tr>\n",
       "      <th>2</th>\n",
       "      <td>5099</td>\n",
       "      <td>Chris</td>\n",
       "      <td>June 22 2019</td>\n",
       "    </tr>\n",
       "    <tr>\n",
       "      <th>3</th>\n",
       "      <td>5178</td>\n",
       "      <td>Shunichi</td>\n",
       "      <td>June 24 2019</td>\n",
       "    </tr>\n",
       "    <tr>\n",
       "      <th>4</th>\n",
       "      <td>5238</td>\n",
       "      <td>Ben</td>\n",
       "      <td>June 09 2019</td>\n",
       "    </tr>\n",
       "  </tbody>\n",
       "</table>\n",
       "</div>"
      ],
      "text/plain": [
       "   listing_id    host_name   last_review\n",
       "0        2595     Jennifer   May 21 2019\n",
       "1        3831  LisaRoxanne  July 05 2019\n",
       "2        5099        Chris  June 22 2019\n",
       "3        5178     Shunichi  June 24 2019\n",
       "4        5238          Ben  June 09 2019"
      ]
     },
     "execution_count": 24,
     "metadata": {},
     "output_type": "execute_result"
    }
   ],
   "source": [
    "last_review.head()"
   ]
  },
  {
   "cell_type": "code",
   "execution_count": 25,
   "id": "64466f9d-5212-4b55-b2ba-6ae99b2e9e00",
   "metadata": {},
   "outputs": [],
   "source": [
    "### merging airbnb_price and last_review\n",
    "\n",
    "main_table_1 = pd.merge(left = airbnb_price, right = last_review, how = \"left\", left_on = \"listing_id\", right_on =\"listing_id\")"
   ]
  },
  {
   "cell_type": "code",
   "execution_count": 26,
   "id": "89c80037-fc95-4956-a560-d6cf9f77d9c3",
   "metadata": {},
   "outputs": [],
   "source": [
    "### merging main_table_1 and room_type\n",
    "\n",
    "main_table = pd.merge(left = main_table_1, right = room_type, how = \"left\", left_on = \"listing_id\", right_on =\"listing_id\")"
   ]
  },
  {
   "cell_type": "code",
   "execution_count": 27,
   "id": "9ad978c4-dc1a-4825-9ad8-e75c47c270b4",
   "metadata": {},
   "outputs": [
    {
     "data": {
      "text/html": [
       "<div>\n",
       "<style scoped>\n",
       "    .dataframe tbody tr th:only-of-type {\n",
       "        vertical-align: middle;\n",
       "    }\n",
       "\n",
       "    .dataframe tbody tr th {\n",
       "        vertical-align: top;\n",
       "    }\n",
       "\n",
       "    .dataframe thead th {\n",
       "        text-align: right;\n",
       "    }\n",
       "</style>\n",
       "<table border=\"1\" class=\"dataframe\">\n",
       "  <thead>\n",
       "    <tr style=\"text-align: right;\">\n",
       "      <th></th>\n",
       "      <th>listing_id</th>\n",
       "      <th>price</th>\n",
       "      <th>nbhood_full</th>\n",
       "      <th>host_name</th>\n",
       "      <th>last_review</th>\n",
       "      <th>description</th>\n",
       "      <th>room_type</th>\n",
       "    </tr>\n",
       "  </thead>\n",
       "  <tbody>\n",
       "    <tr>\n",
       "      <th>0</th>\n",
       "      <td>2595</td>\n",
       "      <td>225 dollars</td>\n",
       "      <td>Manhattan, Midtown</td>\n",
       "      <td>Jennifer</td>\n",
       "      <td>May 21 2019</td>\n",
       "      <td>Skylit Midtown Castle</td>\n",
       "      <td>Entire home/apt</td>\n",
       "    </tr>\n",
       "    <tr>\n",
       "      <th>1</th>\n",
       "      <td>3831</td>\n",
       "      <td>89 dollars</td>\n",
       "      <td>Brooklyn, Clinton Hill</td>\n",
       "      <td>LisaRoxanne</td>\n",
       "      <td>July 05 2019</td>\n",
       "      <td>Cozy Entire Floor of Brownstone</td>\n",
       "      <td>Entire home/apt</td>\n",
       "    </tr>\n",
       "    <tr>\n",
       "      <th>2</th>\n",
       "      <td>5099</td>\n",
       "      <td>200 dollars</td>\n",
       "      <td>Manhattan, Murray Hill</td>\n",
       "      <td>Chris</td>\n",
       "      <td>June 22 2019</td>\n",
       "      <td>Large Cozy 1 BR Apartment In Midtown East</td>\n",
       "      <td>Entire home/apt</td>\n",
       "    </tr>\n",
       "    <tr>\n",
       "      <th>3</th>\n",
       "      <td>5178</td>\n",
       "      <td>79 dollars</td>\n",
       "      <td>Manhattan, Hell's Kitchen</td>\n",
       "      <td>Shunichi</td>\n",
       "      <td>June 24 2019</td>\n",
       "      <td>Large Furnished Room Near B'way</td>\n",
       "      <td>private room</td>\n",
       "    </tr>\n",
       "    <tr>\n",
       "      <th>4</th>\n",
       "      <td>5238</td>\n",
       "      <td>150 dollars</td>\n",
       "      <td>Manhattan, Chinatown</td>\n",
       "      <td>Ben</td>\n",
       "      <td>June 09 2019</td>\n",
       "      <td>Cute &amp; Cozy Lower East Side 1 bdrm</td>\n",
       "      <td>Entire home/apt</td>\n",
       "    </tr>\n",
       "  </tbody>\n",
       "</table>\n",
       "</div>"
      ],
      "text/plain": [
       "   listing_id        price                nbhood_full    host_name  \\\n",
       "0        2595  225 dollars         Manhattan, Midtown     Jennifer   \n",
       "1        3831   89 dollars     Brooklyn, Clinton Hill  LisaRoxanne   \n",
       "2        5099  200 dollars     Manhattan, Murray Hill        Chris   \n",
       "3        5178   79 dollars  Manhattan, Hell's Kitchen     Shunichi   \n",
       "4        5238  150 dollars       Manhattan, Chinatown          Ben   \n",
       "\n",
       "    last_review                                description        room_type  \n",
       "0   May 21 2019                      Skylit Midtown Castle  Entire home/apt  \n",
       "1  July 05 2019            Cozy Entire Floor of Brownstone  Entire home/apt  \n",
       "2  June 22 2019  Large Cozy 1 BR Apartment In Midtown East  Entire home/apt  \n",
       "3  June 24 2019            Large Furnished Room Near B'way     private room  \n",
       "4  June 09 2019         Cute & Cozy Lower East Side 1 bdrm  Entire home/apt  "
      ]
     },
     "execution_count": 27,
     "metadata": {},
     "output_type": "execute_result"
    }
   ],
   "source": [
    "main_table.head()"
   ]
  },
  {
   "cell_type": "code",
   "execution_count": 28,
   "id": "4d96a264-6a31-4b84-884d-744b61ec5b1c",
   "metadata": {},
   "outputs": [
    {
     "name": "stdout",
     "output_type": "stream",
     "text": [
      "<class 'pandas.core.frame.DataFrame'>\n",
      "RangeIndex: 25209 entries, 0 to 25208\n",
      "Data columns (total 7 columns):\n",
      " #   Column       Non-Null Count  Dtype \n",
      "---  ------       --------------  ----- \n",
      " 0   listing_id   25209 non-null  int64 \n",
      " 1   price        25209 non-null  object\n",
      " 2   nbhood_full  25209 non-null  object\n",
      " 3   host_name    25201 non-null  object\n",
      " 4   last_review  25209 non-null  object\n",
      " 5   description  25199 non-null  object\n",
      " 6   room_type    25209 non-null  object\n",
      "dtypes: int64(1), object(6)\n",
      "memory usage: 1.3+ MB\n"
     ]
    }
   ],
   "source": [
    "main_table.info()"
   ]
  },
  {
   "cell_type": "code",
   "execution_count": 29,
   "id": "8e1f2fca-27d7-4e08-912c-656dac024d8b",
   "metadata": {},
   "outputs": [
    {
     "data": {
      "text/html": [
       "<div>\n",
       "<style scoped>\n",
       "    .dataframe tbody tr th:only-of-type {\n",
       "        vertical-align: middle;\n",
       "    }\n",
       "\n",
       "    .dataframe tbody tr th {\n",
       "        vertical-align: top;\n",
       "    }\n",
       "\n",
       "    .dataframe thead th {\n",
       "        text-align: right;\n",
       "    }\n",
       "</style>\n",
       "<table border=\"1\" class=\"dataframe\">\n",
       "  <thead>\n",
       "    <tr style=\"text-align: right;\">\n",
       "      <th></th>\n",
       "      <th>listing_id</th>\n",
       "    </tr>\n",
       "  </thead>\n",
       "  <tbody>\n",
       "    <tr>\n",
       "      <th>count</th>\n",
       "      <td>2.520900e+04</td>\n",
       "    </tr>\n",
       "    <tr>\n",
       "      <th>mean</th>\n",
       "      <td>2.068922e+07</td>\n",
       "    </tr>\n",
       "    <tr>\n",
       "      <th>std</th>\n",
       "      <td>1.102928e+07</td>\n",
       "    </tr>\n",
       "    <tr>\n",
       "      <th>min</th>\n",
       "      <td>2.595000e+03</td>\n",
       "    </tr>\n",
       "    <tr>\n",
       "      <th>25%</th>\n",
       "      <td>1.202273e+07</td>\n",
       "    </tr>\n",
       "    <tr>\n",
       "      <th>50%</th>\n",
       "      <td>2.234391e+07</td>\n",
       "    </tr>\n",
       "    <tr>\n",
       "      <th>75%</th>\n",
       "      <td>3.037669e+07</td>\n",
       "    </tr>\n",
       "    <tr>\n",
       "      <th>max</th>\n",
       "      <td>3.645581e+07</td>\n",
       "    </tr>\n",
       "  </tbody>\n",
       "</table>\n",
       "</div>"
      ],
      "text/plain": [
       "         listing_id\n",
       "count  2.520900e+04\n",
       "mean   2.068922e+07\n",
       "std    1.102928e+07\n",
       "min    2.595000e+03\n",
       "25%    1.202273e+07\n",
       "50%    2.234391e+07\n",
       "75%    3.037669e+07\n",
       "max    3.645581e+07"
      ]
     },
     "execution_count": 29,
     "metadata": {},
     "output_type": "execute_result"
    }
   ],
   "source": [
    "main_table.describe()"
   ]
  },
  {
   "cell_type": "code",
   "execution_count": 30,
   "id": "8313ed02-d1e5-4517-9d45-341d1f725694",
   "metadata": {},
   "outputs": [],
   "source": [
    "### Casting price as an integer\n",
    "main_table[\"price\"] = main_table[\"price\"].str.replace(\"dollars\", \"\").astype(int)"
   ]
  },
  {
   "cell_type": "code",
   "execution_count": 31,
   "id": "8ae3c489-da14-4385-a11a-39600c571af8",
   "metadata": {},
   "outputs": [
    {
     "name": "stdout",
     "output_type": "stream",
     "text": [
      "<class 'pandas.core.frame.DataFrame'>\n",
      "RangeIndex: 25209 entries, 0 to 25208\n",
      "Data columns (total 7 columns):\n",
      " #   Column       Non-Null Count  Dtype \n",
      "---  ------       --------------  ----- \n",
      " 0   listing_id   25209 non-null  int64 \n",
      " 1   price        25209 non-null  int64 \n",
      " 2   nbhood_full  25209 non-null  object\n",
      " 3   host_name    25201 non-null  object\n",
      " 4   last_review  25209 non-null  object\n",
      " 5   description  25199 non-null  object\n",
      " 6   room_type    25209 non-null  object\n",
      "dtypes: int64(2), object(5)\n",
      "memory usage: 1.3+ MB\n"
     ]
    }
   ],
   "source": [
    "main_table.info()"
   ]
  },
  {
   "cell_type": "code",
   "execution_count": 32,
   "id": "6fae6791-c873-4be5-b76e-8d10579bf4f3",
   "metadata": {},
   "outputs": [],
   "source": [
    "### Casting listing_id as a string\n",
    "main_table[\"listing_id\"] = main_table[\"listing_id\"].astype(str)"
   ]
  },
  {
   "cell_type": "code",
   "execution_count": 33,
   "id": "3310dd25-0bd0-41ee-9431-d4fe489ba2ef",
   "metadata": {},
   "outputs": [
    {
     "name": "stdout",
     "output_type": "stream",
     "text": [
      "<class 'pandas.core.frame.DataFrame'>\n",
      "RangeIndex: 25209 entries, 0 to 25208\n",
      "Data columns (total 7 columns):\n",
      " #   Column       Non-Null Count  Dtype \n",
      "---  ------       --------------  ----- \n",
      " 0   listing_id   25209 non-null  object\n",
      " 1   price        25209 non-null  int64 \n",
      " 2   nbhood_full  25209 non-null  object\n",
      " 3   host_name    25201 non-null  object\n",
      " 4   last_review  25209 non-null  object\n",
      " 5   description  25199 non-null  object\n",
      " 6   room_type    25209 non-null  object\n",
      "dtypes: int64(1), object(6)\n",
      "memory usage: 1.3+ MB\n"
     ]
    }
   ],
   "source": [
    "main_table.info()"
   ]
  },
  {
   "cell_type": "code",
   "execution_count": 34,
   "id": "8863129c-bbe5-4ad9-84f0-1f195388e5b2",
   "metadata": {},
   "outputs": [],
   "source": [
    "### Casting last_review as a date\n",
    "main_table[\"last_review\"] = pd.to_datetime(main_table[\"last_review\"])\n"
   ]
  },
  {
   "cell_type": "code",
   "execution_count": 35,
   "id": "4716e347-bbbf-408a-bfee-03a8a2ffbf0a",
   "metadata": {},
   "outputs": [
    {
     "name": "stdout",
     "output_type": "stream",
     "text": [
      "<class 'pandas.core.frame.DataFrame'>\n",
      "RangeIndex: 25209 entries, 0 to 25208\n",
      "Data columns (total 7 columns):\n",
      " #   Column       Non-Null Count  Dtype         \n",
      "---  ------       --------------  -----         \n",
      " 0   listing_id   25209 non-null  object        \n",
      " 1   price        25209 non-null  int64         \n",
      " 2   nbhood_full  25209 non-null  object        \n",
      " 3   host_name    25201 non-null  object        \n",
      " 4   last_review  25209 non-null  datetime64[ns]\n",
      " 5   description  25199 non-null  object        \n",
      " 6   room_type    25209 non-null  object        \n",
      "dtypes: datetime64[ns](1), int64(1), object(5)\n",
      "memory usage: 1.3+ MB\n"
     ]
    }
   ],
   "source": [
    "main_table.info()"
   ]
  },
  {
   "cell_type": "code",
   "execution_count": 36,
   "id": "4bffb190-6741-48ae-9868-816a13829687",
   "metadata": {},
   "outputs": [
    {
     "data": {
      "text/plain": [
       "Timestamp('2019-07-08 00:00:00')"
      ]
     },
     "execution_count": 36,
     "metadata": {},
     "output_type": "execute_result"
    }
   ],
   "source": [
    "\n",
    "### Determining the most recent review dates for the private rooms\n",
    "\n",
    "pri_room_last_rev = main_table[\"last_review\"][main_table[\"room_type\"] == \"private room\"].max()\n",
    "pri_room_last_rev"
   ]
  },
  {
   "cell_type": "code",
   "execution_count": 37,
   "id": "04700eb5-30a0-4f9e-a596-30fbc8886e86",
   "metadata": {},
   "outputs": [
    {
     "data": {
      "text/plain": [
       "Timestamp('2019-01-01 00:00:00')"
      ]
     },
     "execution_count": 37,
     "metadata": {},
     "output_type": "execute_result"
    }
   ],
   "source": [
    "### Determining the earliest review dates for the private rooms\n",
    "\n",
    "pri_room_first_rev = main_table[\"last_review\"][main_table[\"room_type\"] == \"private room\"].min()\n",
    "pri_room_first_rev"
   ]
  },
  {
   "cell_type": "code",
   "execution_count": 38,
   "id": "57256e43-2d26-415e-a268-38dfd6d4ae17",
   "metadata": {},
   "outputs": [
    {
     "data": {
      "text/html": [
       "<div>\n",
       "<style scoped>\n",
       "    .dataframe tbody tr th:only-of-type {\n",
       "        vertical-align: middle;\n",
       "    }\n",
       "\n",
       "    .dataframe tbody tr th {\n",
       "        vertical-align: top;\n",
       "    }\n",
       "\n",
       "    .dataframe thead th {\n",
       "        text-align: right;\n",
       "    }\n",
       "</style>\n",
       "<table border=\"1\" class=\"dataframe\">\n",
       "  <thead>\n",
       "    <tr style=\"text-align: right;\">\n",
       "      <th></th>\n",
       "      <th>price</th>\n",
       "      <th>last_review</th>\n",
       "    </tr>\n",
       "  </thead>\n",
       "  <tbody>\n",
       "    <tr>\n",
       "      <th>count</th>\n",
       "      <td>25209.000000</td>\n",
       "      <td>25209</td>\n",
       "    </tr>\n",
       "    <tr>\n",
       "      <th>mean</th>\n",
       "      <td>141.777936</td>\n",
       "      <td>2019-05-30 07:58:41.171010560</td>\n",
       "    </tr>\n",
       "    <tr>\n",
       "      <th>min</th>\n",
       "      <td>0.000000</td>\n",
       "      <td>2019-01-01 00:00:00</td>\n",
       "    </tr>\n",
       "    <tr>\n",
       "      <th>25%</th>\n",
       "      <td>69.000000</td>\n",
       "      <td>2019-05-23 00:00:00</td>\n",
       "    </tr>\n",
       "    <tr>\n",
       "      <th>50%</th>\n",
       "      <td>105.000000</td>\n",
       "      <td>2019-06-18 00:00:00</td>\n",
       "    </tr>\n",
       "    <tr>\n",
       "      <th>75%</th>\n",
       "      <td>175.000000</td>\n",
       "      <td>2019-06-29 00:00:00</td>\n",
       "    </tr>\n",
       "    <tr>\n",
       "      <th>max</th>\n",
       "      <td>7500.000000</td>\n",
       "      <td>2019-07-09 00:00:00</td>\n",
       "    </tr>\n",
       "    <tr>\n",
       "      <th>std</th>\n",
       "      <td>147.349137</td>\n",
       "      <td>NaN</td>\n",
       "    </tr>\n",
       "  </tbody>\n",
       "</table>\n",
       "</div>"
      ],
      "text/plain": [
       "              price                    last_review\n",
       "count  25209.000000                          25209\n",
       "mean     141.777936  2019-05-30 07:58:41.171010560\n",
       "min        0.000000            2019-01-01 00:00:00\n",
       "25%       69.000000            2019-05-23 00:00:00\n",
       "50%      105.000000            2019-06-18 00:00:00\n",
       "75%      175.000000            2019-06-29 00:00:00\n",
       "max     7500.000000            2019-07-09 00:00:00\n",
       "std      147.349137                            NaN"
      ]
     },
     "execution_count": 38,
     "metadata": {},
     "output_type": "execute_result"
    }
   ],
   "source": [
    "main_table.describe()"
   ]
  },
  {
   "cell_type": "code",
   "execution_count": 39,
   "id": "f6dda71c-7d27-482d-887a-42a4a8124b2e",
   "metadata": {},
   "outputs": [],
   "source": [
    "### Finding how many listings are private rooms\n",
    "\n",
    "private_rooms_df = main_table[main_table['room_type'] == 'private room'].count()"
   ]
  },
  {
   "cell_type": "code",
   "execution_count": 40,
   "id": "4b0c75b0-7529-4381-a774-36cf31f93dd8",
   "metadata": {},
   "outputs": [
    {
     "data": {
      "text/plain": [
       "listing_id     2248\n",
       "price          2248\n",
       "nbhood_full    2248\n",
       "host_name      2247\n",
       "last_review    2248\n",
       "description    2245\n",
       "room_type      2248\n",
       "dtype: int64"
      ]
     },
     "execution_count": 40,
     "metadata": {},
     "output_type": "execute_result"
    }
   ],
   "source": [
    "private_rooms_df"
   ]
  },
  {
   "cell_type": "code",
   "execution_count": 41,
   "id": "0d91e328-d903-4096-b627-c5afbea3548f",
   "metadata": {},
   "outputs": [],
   "source": [
    "private_rooms_df_2 = main_table['room_type'][main_table['room_type'] == 'private room'].count()\n"
   ]
  },
  {
   "cell_type": "code",
   "execution_count": 42,
   "id": "ea6b6081-b042-4a92-a356-26fe791f40da",
   "metadata": {},
   "outputs": [
    {
     "data": {
      "text/plain": [
       "2248"
      ]
     },
     "execution_count": 42,
     "metadata": {},
     "output_type": "execute_result"
    }
   ],
   "source": [
    "private_rooms_df_2"
   ]
  },
  {
   "cell_type": "code",
   "execution_count": 43,
   "id": "5a0194d1-8eec-4a96-9e45-71c2a3701731",
   "metadata": {},
   "outputs": [
    {
     "data": {
      "text/plain": [
       "80.37455516014235"
      ]
     },
     "execution_count": 43,
     "metadata": {},
     "output_type": "execute_result"
    }
   ],
   "source": [
    "### Finding the average price of listings for private room\n",
    "\n",
    "priv_room_avg_price = main_table[\"price\"][main_table[\"room_type\"] == \"private room\"].mean()\n",
    "priv_room_avg_price"
   ]
  },
  {
   "cell_type": "code",
   "execution_count": 48,
   "id": "57673602-08ec-477a-9a17-333f3ae0aff1",
   "metadata": {},
   "outputs": [],
   "source": [
    "### creating dictionary with 4 previously calculated values\n",
    "\n",
    "review_dates = {\"first_reviewed\": pri_room_first_rev, \"last_reviewed\": pri_room_last_rev, \"nb_private_rooms\": private_rooms_df_2,\"avg_price\": priv_room_avg_price, \"index\": 0}"
   ]
  },
  {
   "cell_type": "code",
   "execution_count": 49,
   "id": "f8630748-07f5-40d3-9612-d6cc6278b32d",
   "metadata": {},
   "outputs": [
    {
     "data": {
      "text/html": [
       "<div>\n",
       "<style scoped>\n",
       "    .dataframe tbody tr th:only-of-type {\n",
       "        vertical-align: middle;\n",
       "    }\n",
       "\n",
       "    .dataframe tbody tr th {\n",
       "        vertical-align: top;\n",
       "    }\n",
       "\n",
       "    .dataframe thead th {\n",
       "        text-align: right;\n",
       "    }\n",
       "</style>\n",
       "<table border=\"1\" class=\"dataframe\">\n",
       "  <thead>\n",
       "    <tr style=\"text-align: right;\">\n",
       "      <th></th>\n",
       "      <th>first_reviewed</th>\n",
       "      <th>last_reviewed</th>\n",
       "      <th>nb_private_rooms</th>\n",
       "      <th>avg_price</th>\n",
       "      <th>index</th>\n",
       "    </tr>\n",
       "  </thead>\n",
       "  <tbody>\n",
       "    <tr>\n",
       "      <th>0</th>\n",
       "      <td>2019-01-01</td>\n",
       "      <td>2019-07-08</td>\n",
       "      <td>2248</td>\n",
       "      <td>80.374555</td>\n",
       "      <td>0</td>\n",
       "    </tr>\n",
       "  </tbody>\n",
       "</table>\n",
       "</div>"
      ],
      "text/plain": [
       "  first_reviewed last_reviewed  nb_private_rooms  avg_price  index\n",
       "0     2019-01-01    2019-07-08              2248  80.374555      0"
      ]
     },
     "execution_count": 49,
     "metadata": {},
     "output_type": "execute_result"
    }
   ],
   "source": [
    "review_dates_2 = pd.DataFrame(review_dates, index=[0])\n",
    "review_dates_2"
   ]
  },
  {
   "cell_type": "code",
   "execution_count": null,
   "id": "f91508ff-ffa8-4a68-9232-e3673a90d032",
   "metadata": {},
   "outputs": [],
   "source": []
  }
 ],
 "metadata": {
  "kernelspec": {
   "display_name": "Python 3 (ipykernel)",
   "language": "python",
   "name": "python3"
  },
  "language_info": {
   "codemirror_mode": {
    "name": "ipython",
    "version": 3
   },
   "file_extension": ".py",
   "mimetype": "text/x-python",
   "name": "python",
   "nbconvert_exporter": "python",
   "pygments_lexer": "ipython3",
   "version": "3.12.4"
  }
 },
 "nbformat": 4,
 "nbformat_minor": 5
}
